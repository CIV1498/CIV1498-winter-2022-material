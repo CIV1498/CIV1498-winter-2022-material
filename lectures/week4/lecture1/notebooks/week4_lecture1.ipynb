{
 "cells": [
  {
   "cell_type": "markdown",
   "metadata": {},
   "source": [
    "# CIV1498 - Introduction to Data Science\n",
    "## Lecture 10 - Working with Text and Datetimes\n",
    "\n",
    "### Lecture Structure\n",
    "1. [Demo 1](#section1)\n",
    "2. [Demo 2](#section2)\n",
    "3. [Demo 3](#section3)\n",
    "4. [Demo 4](#section4)"
   ]
  },
  {
   "cell_type": "markdown",
   "metadata": {},
   "source": [
    "## Setup Notebook"
   ]
  },
  {
   "cell_type": "code",
   "execution_count": 1,
   "metadata": {},
   "outputs": [],
   "source": [
    "# Import 3rd party libraries\n",
    "import pandas as pd\n",
    "import seaborn as sns\n",
    "import matplotlib.pylab as plt\n",
    "\n",
    "# Configure Notebook\n",
    "%matplotlib inline\n",
    "plt.style.use('fivethirtyeight')\n",
    "sns.set_context(\"notebook\")\n",
    "import warnings\n",
    "warnings.filterwarnings('ignore')"
   ]
  },
  {
   "cell_type": "markdown",
   "metadata": {},
   "source": [
    "<a id='section1'></a>\n",
    "## 1. Demo 1 - Ontario Region Data"
   ]
  },
  {
   "cell_type": "code",
   "execution_count": 2,
   "metadata": {},
   "outputs": [
    {
     "data": {
      "text/html": [
       "<div>\n",
       "<style scoped>\n",
       "    .dataframe tbody tr th:only-of-type {\n",
       "        vertical-align: middle;\n",
       "    }\n",
       "\n",
       "    .dataframe tbody tr th {\n",
       "        vertical-align: top;\n",
       "    }\n",
       "\n",
       "    .dataframe thead th {\n",
       "        text-align: right;\n",
       "    }\n",
       "</style>\n",
       "<table border=\"1\" class=\"dataframe\">\n",
       "  <thead>\n",
       "    <tr style=\"text-align: right;\">\n",
       "      <th></th>\n",
       "      <th>region</th>\n",
       "      <th>population</th>\n",
       "    </tr>\n",
       "  </thead>\n",
       "  <tbody>\n",
       "    <tr>\n",
       "      <th>0</th>\n",
       "      <td>Regional Municipality of Peel</td>\n",
       "      <td>1381739</td>\n",
       "    </tr>\n",
       "    <tr>\n",
       "      <th>1</th>\n",
       "      <td>Oxford County</td>\n",
       "      <td>110862</td>\n",
       "    </tr>\n",
       "    <tr>\n",
       "      <th>2</th>\n",
       "      <td>Capitale-Nationale</td>\n",
       "      <td>729997</td>\n",
       "    </tr>\n",
       "    <tr>\n",
       "      <th>3</th>\n",
       "      <td>Municipality of Chatham-Kent</td>\n",
       "      <td>102042</td>\n",
       "    </tr>\n",
       "  </tbody>\n",
       "</table>\n",
       "</div>"
      ],
      "text/plain": [
       "                          region  population\n",
       "0  Regional Municipality of Peel     1381739\n",
       "1                  Oxford County      110862\n",
       "2             Capitale-Nationale      729997\n",
       "3   Municipality of Chatham-Kent      102042"
      ]
     },
     "execution_count": 2,
     "metadata": {},
     "output_type": "execute_result"
    }
   ],
   "source": [
    "# Import Region-Population CSV.\n",
    "region_population = pd.read_csv('region_population.csv')\n",
    "region_population.head()"
   ]
  },
  {
   "cell_type": "code",
   "execution_count": 3,
   "metadata": {},
   "outputs": [
    {
     "data": {
      "text/html": [
       "<div>\n",
       "<style scoped>\n",
       "    .dataframe tbody tr th:only-of-type {\n",
       "        vertical-align: middle;\n",
       "    }\n",
       "\n",
       "    .dataframe tbody tr th {\n",
       "        vertical-align: top;\n",
       "    }\n",
       "\n",
       "    .dataframe thead th {\n",
       "        text-align: right;\n",
       "    }\n",
       "</style>\n",
       "<table border=\"1\" class=\"dataframe\">\n",
       "  <thead>\n",
       "    <tr style=\"text-align: right;\">\n",
       "      <th></th>\n",
       "      <th>region</th>\n",
       "      <th>province</th>\n",
       "    </tr>\n",
       "  </thead>\n",
       "  <tbody>\n",
       "    <tr>\n",
       "      <th>0</th>\n",
       "      <td>Peel Region</td>\n",
       "      <td>Ontario</td>\n",
       "    </tr>\n",
       "    <tr>\n",
       "      <th>1</th>\n",
       "      <td>Oxford</td>\n",
       "      <td>Ontario</td>\n",
       "    </tr>\n",
       "    <tr>\n",
       "      <th>2</th>\n",
       "      <td>Capitale Nationale</td>\n",
       "      <td>Quebec</td>\n",
       "    </tr>\n",
       "    <tr>\n",
       "      <th>3</th>\n",
       "      <td>Chatham-Kent</td>\n",
       "      <td>Ontario</td>\n",
       "    </tr>\n",
       "  </tbody>\n",
       "</table>\n",
       "</div>"
      ],
      "text/plain": [
       "               region province\n",
       "0         Peel Region  Ontario\n",
       "1              Oxford  Ontario\n",
       "2  Capitale Nationale   Quebec\n",
       "3        Chatham-Kent  Ontario"
      ]
     },
     "execution_count": 3,
     "metadata": {},
     "output_type": "execute_result"
    }
   ],
   "source": [
    "# Import Region-Province CSV.\n",
    "region_province = pd.read_csv('region_province.csv')\n",
    "region_province.head()"
   ]
  },
  {
   "cell_type": "markdown",
   "metadata": {},
   "source": [
    "Write a function to map to a consistent string representation of **Region**."
   ]
  },
  {
   "cell_type": "code",
   "execution_count": 6,
   "metadata": {},
   "outputs": [],
   "source": [
    "def canonicalization_region(region):\n",
    "    return (\n",
    "        region.lower()\n",
    "        .replace(' ', '')\n",
    "        .replace('-', '')\n",
    "        .replace('county', '')\n",
    "        .replace('regional', '')\n",
    "        .replace('region', '')\n",
    "        .replace('of', '')\n",
    "        .replace('municipality', '')\n",
    "    )"
   ]
  },
  {
   "cell_type": "markdown",
   "metadata": {},
   "source": [
    "Add a new cleaned column for **Region**."
   ]
  },
  {
   "cell_type": "code",
   "execution_count": 7,
   "metadata": {},
   "outputs": [
    {
     "data": {
      "text/html": [
       "<div>\n",
       "<style scoped>\n",
       "    .dataframe tbody tr th:only-of-type {\n",
       "        vertical-align: middle;\n",
       "    }\n",
       "\n",
       "    .dataframe tbody tr th {\n",
       "        vertical-align: top;\n",
       "    }\n",
       "\n",
       "    .dataframe thead th {\n",
       "        text-align: right;\n",
       "    }\n",
       "</style>\n",
       "<table border=\"1\" class=\"dataframe\">\n",
       "  <thead>\n",
       "    <tr style=\"text-align: right;\">\n",
       "      <th></th>\n",
       "      <th>region</th>\n",
       "      <th>population</th>\n",
       "      <th>clean_region</th>\n",
       "    </tr>\n",
       "  </thead>\n",
       "  <tbody>\n",
       "    <tr>\n",
       "      <th>0</th>\n",
       "      <td>Regional Municipality of Peel</td>\n",
       "      <td>1381739</td>\n",
       "      <td>peel</td>\n",
       "    </tr>\n",
       "    <tr>\n",
       "      <th>1</th>\n",
       "      <td>Oxford County</td>\n",
       "      <td>110862</td>\n",
       "      <td>oxford</td>\n",
       "    </tr>\n",
       "    <tr>\n",
       "      <th>2</th>\n",
       "      <td>Capitale-Nationale</td>\n",
       "      <td>729997</td>\n",
       "      <td>capitalenationale</td>\n",
       "    </tr>\n",
       "    <tr>\n",
       "      <th>3</th>\n",
       "      <td>Municipality of Chatham-Kent</td>\n",
       "      <td>102042</td>\n",
       "      <td>chathamkent</td>\n",
       "    </tr>\n",
       "  </tbody>\n",
       "</table>\n",
       "</div>"
      ],
      "text/plain": [
       "                          region  population       clean_region\n",
       "0  Regional Municipality of Peel     1381739               peel\n",
       "1                  Oxford County      110862             oxford\n",
       "2             Capitale-Nationale      729997  capitalenationale\n",
       "3   Municipality of Chatham-Kent      102042        chathamkent"
      ]
     },
     "execution_count": 7,
     "metadata": {},
     "output_type": "execute_result"
    }
   ],
   "source": [
    "region_population['clean_region'] = region_population['region'].map(canonicalization_region)\n",
    "region_population.head()"
   ]
  },
  {
   "cell_type": "code",
   "execution_count": 8,
   "metadata": {},
   "outputs": [
    {
     "data": {
      "text/html": [
       "<div>\n",
       "<style scoped>\n",
       "    .dataframe tbody tr th:only-of-type {\n",
       "        vertical-align: middle;\n",
       "    }\n",
       "\n",
       "    .dataframe tbody tr th {\n",
       "        vertical-align: top;\n",
       "    }\n",
       "\n",
       "    .dataframe thead th {\n",
       "        text-align: right;\n",
       "    }\n",
       "</style>\n",
       "<table border=\"1\" class=\"dataframe\">\n",
       "  <thead>\n",
       "    <tr style=\"text-align: right;\">\n",
       "      <th></th>\n",
       "      <th>region</th>\n",
       "      <th>province</th>\n",
       "      <th>clean_region</th>\n",
       "    </tr>\n",
       "  </thead>\n",
       "  <tbody>\n",
       "    <tr>\n",
       "      <th>0</th>\n",
       "      <td>Peel Region</td>\n",
       "      <td>Ontario</td>\n",
       "      <td>peel</td>\n",
       "    </tr>\n",
       "    <tr>\n",
       "      <th>1</th>\n",
       "      <td>Oxford</td>\n",
       "      <td>Ontario</td>\n",
       "      <td>oxford</td>\n",
       "    </tr>\n",
       "    <tr>\n",
       "      <th>2</th>\n",
       "      <td>Capitale Nationale</td>\n",
       "      <td>Quebec</td>\n",
       "      <td>capitalenationale</td>\n",
       "    </tr>\n",
       "    <tr>\n",
       "      <th>3</th>\n",
       "      <td>Chatham-Kent</td>\n",
       "      <td>Ontario</td>\n",
       "      <td>chathamkent</td>\n",
       "    </tr>\n",
       "  </tbody>\n",
       "</table>\n",
       "</div>"
      ],
      "text/plain": [
       "               region province       clean_region\n",
       "0         Peel Region  Ontario               peel\n",
       "1              Oxford  Ontario             oxford\n",
       "2  Capitale Nationale   Quebec  capitalenationale\n",
       "3        Chatham-Kent  Ontario        chathamkent"
      ]
     },
     "execution_count": 8,
     "metadata": {},
     "output_type": "execute_result"
    }
   ],
   "source": [
    "region_province['clean_region'] = region_province['region'].map(canonicalization_region)\n",
    "region_province.head()"
   ]
  },
  {
   "cell_type": "code",
   "execution_count": 9,
   "metadata": {},
   "outputs": [
    {
     "data": {
      "text/html": [
       "<div>\n",
       "<style scoped>\n",
       "    .dataframe tbody tr th:only-of-type {\n",
       "        vertical-align: middle;\n",
       "    }\n",
       "\n",
       "    .dataframe tbody tr th {\n",
       "        vertical-align: top;\n",
       "    }\n",
       "\n",
       "    .dataframe thead th {\n",
       "        text-align: right;\n",
       "    }\n",
       "</style>\n",
       "<table border=\"1\" class=\"dataframe\">\n",
       "  <thead>\n",
       "    <tr style=\"text-align: right;\">\n",
       "      <th></th>\n",
       "      <th>region</th>\n",
       "      <th>population</th>\n",
       "      <th>clean_region</th>\n",
       "      <th>province</th>\n",
       "    </tr>\n",
       "  </thead>\n",
       "  <tbody>\n",
       "    <tr>\n",
       "      <th>0</th>\n",
       "      <td>Regional Municipality of Peel</td>\n",
       "      <td>1381739</td>\n",
       "      <td>peel</td>\n",
       "      <td>Ontario</td>\n",
       "    </tr>\n",
       "    <tr>\n",
       "      <th>1</th>\n",
       "      <td>Oxford County</td>\n",
       "      <td>110862</td>\n",
       "      <td>oxford</td>\n",
       "      <td>Ontario</td>\n",
       "    </tr>\n",
       "    <tr>\n",
       "      <th>2</th>\n",
       "      <td>Capitale-Nationale</td>\n",
       "      <td>729997</td>\n",
       "      <td>capitalenationale</td>\n",
       "      <td>Quebec</td>\n",
       "    </tr>\n",
       "    <tr>\n",
       "      <th>3</th>\n",
       "      <td>Municipality of Chatham-Kent</td>\n",
       "      <td>102042</td>\n",
       "      <td>chathamkent</td>\n",
       "      <td>Ontario</td>\n",
       "    </tr>\n",
       "  </tbody>\n",
       "</table>\n",
       "</div>"
      ],
      "text/plain": [
       "                          region  population       clean_region province\n",
       "0  Regional Municipality of Peel     1381739               peel  Ontario\n",
       "1                  Oxford County      110862             oxford  Ontario\n",
       "2             Capitale-Nationale      729997  capitalenationale   Quebec\n",
       "3   Municipality of Chatham-Kent      102042        chathamkent  Ontario"
      ]
     },
     "execution_count": 9,
     "metadata": {},
     "output_type": "execute_result"
    }
   ],
   "source": [
    "region_population.merge(region_province[['province', 'clean_region']], on='clean_region', how='right')"
   ]
  },
  {
   "cell_type": "markdown",
   "metadata": {},
   "source": [
    "<a id='section2'></a>\n",
    "## 2. Demo 2 - Log Data\n",
    "\n",
    "Extract the Day, Month, Year, Hour, Minute, Second and Time Zone from log data using Python string methods.\n",
    "\n",
    "Read the text file."
   ]
  },
  {
   "cell_type": "code",
   "execution_count": 10,
   "metadata": {},
   "outputs": [
    {
     "name": "stdout",
     "output_type": "stream",
     "text": [
      "['169.237.46.168 - - [26/Jan/2014:10:47:58 -0800] \"GET /stat141/Winter04/ HTTP/1.1\" 200 2585 \"http://anson.ucdavis.edu/courses/\"', '193.205.203.3 - - [2/Feb/2005:17:23:6 -0800] \"GET /stat141/Notes/dim.html HTTP/1.0\" 404 302 \"http://eeyore.ucdavis.edu/stat141/Notes/session.html\"', '169.237.46.240 - \"\" [3/Feb/2006:10:18:37 -0800] \"GET /stat141/homework/Solutions/hw1Sol.pdf HTTP/1.1\"']\n"
     ]
    }
   ],
   "source": [
    "with open('log.txt', 'r') as f:\n",
    "    logs = f.read().split('\\n')\n",
    "print(logs)"
   ]
  },
  {
   "cell_type": "markdown",
   "metadata": {},
   "source": [
    "`logs` is now a list of strings where each string is a log.\n",
    "\n",
    "We could try simply indexing the strings. It looks like the Year is character 27:31. Let's try extracting the Year."
   ]
  },
  {
   "cell_type": "code",
   "execution_count": 12,
   "metadata": {},
   "outputs": [
    {
     "data": {
      "text/plain": [
       "'2014'"
      ]
     },
     "execution_count": 12,
     "metadata": {},
     "output_type": "execute_result"
    }
   ],
   "source": [
    "# Log 1\n",
    "logs[0][27:31]"
   ]
  },
  {
   "cell_type": "markdown",
   "metadata": {},
   "source": [
    "It worked! Let's try it for the second log."
   ]
  },
  {
   "cell_type": "code",
   "execution_count": 13,
   "metadata": {},
   "outputs": [
    {
     "data": {
      "text/plain": [
       "'05:1'"
      ]
     },
     "execution_count": 13,
     "metadata": {},
     "output_type": "execute_result"
    }
   ],
   "source": [
    "# Log 2\n",
    "logs[1][27:31]"
   ]
  },
  {
   "cell_type": "markdown",
   "metadata": {},
   "source": [
    "We can see that this doesn't generalize. Lets try using Python string methods.\n",
    "\n",
    "First, let's grab the section of the log we're interested in using the `.split()` method."
   ]
  },
  {
   "cell_type": "code",
   "execution_count": 16,
   "metadata": {},
   "outputs": [
    {
     "data": {
      "text/plain": [
       "'26/Jan/2014:10:47:58 -0800'"
      ]
     },
     "execution_count": 16,
     "metadata": {},
     "output_type": "execute_result"
    }
   ],
   "source": [
    "text = logs[0].split('[')[1].split(']')[0]\n",
    "text"
   ]
  },
  {
   "cell_type": "markdown",
   "metadata": {},
   "source": [
    "We can see that this works for all logs."
   ]
  },
  {
   "cell_type": "code",
   "execution_count": 17,
   "metadata": {},
   "outputs": [
    {
     "name": "stdout",
     "output_type": "stream",
     "text": [
      "26/Jan/2014:10:47:58 -0800\n",
      "2/Feb/2005:17:23:6 -0800\n",
      "3/Feb/2006:10:18:37 -0800\n"
     ]
    }
   ],
   "source": [
    "for log in logs:\n",
    "    print(log.split('[')[1].split(']')[0])"
   ]
  },
  {
   "cell_type": "markdown",
   "metadata": {},
   "source": [
    "Now we can use `.split()` again to get the day and month and remainder."
   ]
  },
  {
   "cell_type": "code",
   "execution_count": 18,
   "metadata": {},
   "outputs": [
    {
     "name": "stdout",
     "output_type": "stream",
     "text": [
      "day: 26, month: Jan, remainder: 2014:10:47:58 -0800\n"
     ]
    }
   ],
   "source": [
    "day, month, remainder = text.split('/')\n",
    "print('day: {}, month: {}, remainder: {}'.format(day, month, remainder))"
   ]
  },
  {
   "cell_type": "code",
   "execution_count": 19,
   "metadata": {},
   "outputs": [
    {
     "name": "stdout",
     "output_type": "stream",
     "text": [
      "year: 2014, hour: 10, minute: 47, remainder: 58 -0800\n"
     ]
    }
   ],
   "source": [
    "year, hour, minute, remainder = remainder.split(':')\n",
    "print('year: {}, hour: {}, minute: {}, remainder: {}'.format(year, hour, minute, remainder))"
   ]
  },
  {
   "cell_type": "code",
   "execution_count": 20,
   "metadata": {},
   "outputs": [
    {
     "name": "stdout",
     "output_type": "stream",
     "text": [
      "second: 58, time_zone: -0800\n"
     ]
    }
   ],
   "source": [
    "seconds, time_zone = remainder.split(' ')\n",
    "print('second: {}, time_zone: {}'.format(seconds, time_zone))"
   ]
  },
  {
   "cell_type": "markdown",
   "metadata": {},
   "source": [
    "Now, lets try extracting for each log and savings to a DataFrame."
   ]
  },
  {
   "cell_type": "code",
   "execution_count": 21,
   "metadata": {},
   "outputs": [],
   "source": [
    "def log_parser(log):\n",
    "    text = log.split('[')[1].split(']')[0]\n",
    "    day, month, remainder = text.split('/')\n",
    "    year, hour, minute, remainder = remainder.split(':')\n",
    "    seconds, time_zone = remainder.split(' ')\n",
    "    return {'day': day, 'month': month, 'year': year, \n",
    "            'hour': hour, 'minute': minute, 'seconds': seconds, \n",
    "            'time_zone': time_zone}"
   ]
  },
  {
   "cell_type": "code",
   "execution_count": 22,
   "metadata": {},
   "outputs": [
    {
     "data": {
      "text/html": [
       "<div>\n",
       "<style scoped>\n",
       "    .dataframe tbody tr th:only-of-type {\n",
       "        vertical-align: middle;\n",
       "    }\n",
       "\n",
       "    .dataframe tbody tr th {\n",
       "        vertical-align: top;\n",
       "    }\n",
       "\n",
       "    .dataframe thead th {\n",
       "        text-align: right;\n",
       "    }\n",
       "</style>\n",
       "<table border=\"1\" class=\"dataframe\">\n",
       "  <thead>\n",
       "    <tr style=\"text-align: right;\">\n",
       "      <th></th>\n",
       "      <th>day</th>\n",
       "      <th>month</th>\n",
       "      <th>year</th>\n",
       "      <th>hour</th>\n",
       "      <th>minute</th>\n",
       "      <th>seconds</th>\n",
       "      <th>time_zone</th>\n",
       "    </tr>\n",
       "  </thead>\n",
       "  <tbody>\n",
       "    <tr>\n",
       "      <th>0</th>\n",
       "      <td>26</td>\n",
       "      <td>Jan</td>\n",
       "      <td>2014</td>\n",
       "      <td>10</td>\n",
       "      <td>47</td>\n",
       "      <td>58</td>\n",
       "      <td>-0800</td>\n",
       "    </tr>\n",
       "    <tr>\n",
       "      <th>1</th>\n",
       "      <td>2</td>\n",
       "      <td>Feb</td>\n",
       "      <td>2005</td>\n",
       "      <td>17</td>\n",
       "      <td>23</td>\n",
       "      <td>6</td>\n",
       "      <td>-0800</td>\n",
       "    </tr>\n",
       "    <tr>\n",
       "      <th>2</th>\n",
       "      <td>3</td>\n",
       "      <td>Feb</td>\n",
       "      <td>2006</td>\n",
       "      <td>10</td>\n",
       "      <td>18</td>\n",
       "      <td>37</td>\n",
       "      <td>-0800</td>\n",
       "    </tr>\n",
       "  </tbody>\n",
       "</table>\n",
       "</div>"
      ],
      "text/plain": [
       "  day month  year hour minute seconds time_zone\n",
       "0  26   Jan  2014   10     47      58     -0800\n",
       "1   2   Feb  2005   17     23       6     -0800\n",
       "2   3   Feb  2006   10     18      37     -0800"
      ]
     },
     "execution_count": 22,
     "metadata": {},
     "output_type": "execute_result"
    }
   ],
   "source": [
    "data = pd.DataFrame([log_parser(log) for log in logs])\n",
    "data.head()"
   ]
  },
  {
   "cell_type": "markdown",
   "metadata": {},
   "source": [
    "Try the same thing using regular expressions."
   ]
  },
  {
   "cell_type": "code",
   "execution_count": 23,
   "metadata": {},
   "outputs": [
    {
     "name": "stdout",
     "output_type": "stream",
     "text": [
      "2014 Jan 26 10 47 58 -0800\n"
     ]
    }
   ],
   "source": [
    "import re\n",
    "\n",
    "pattern = r'\\[(\\d+)/(\\w+)/(\\d+):(\\d+):(\\d+):(\\d+) (.+)\\]'\n",
    "day, month, year, hour, minute, second, time_zone = re.findall(pattern, logs[0])[0]\n",
    "\n",
    "print(year, month, day, hour, minute, second, time_zone)"
   ]
  },
  {
   "cell_type": "markdown",
   "metadata": {},
   "source": [
    "<a id='section3'></a>\n",
    "## 3. Demo 3 - DateTime Index\n",
    "\n",
    "First, let's import Python's built-in Datatime package."
   ]
  },
  {
   "cell_type": "code",
   "execution_count": 24,
   "metadata": {},
   "outputs": [],
   "source": [
    "from datetime import datetime"
   ]
  },
  {
   "cell_type": "markdown",
   "metadata": {},
   "source": [
    "To start, let's generate some variables to hold datetime information."
   ]
  },
  {
   "cell_type": "code",
   "execution_count": 26,
   "metadata": {},
   "outputs": [],
   "source": [
    "year = 2020\n",
    "month = 11\n",
    "day = 12\n",
    "hour = 15\n",
    "minute = 10\n",
    "second = 32\n",
    "microsecond = 2304"
   ]
  },
  {
   "cell_type": "markdown",
   "metadata": {},
   "source": [
    "Now, create a datetime object. Hold shift + tab to see what argurments `datetime()` takes."
   ]
  },
  {
   "cell_type": "code",
   "execution_count": 27,
   "metadata": {},
   "outputs": [
    {
     "data": {
      "text/plain": [
       "datetime.datetime(2020, 11, 12, 15, 10, 32, 2304)"
      ]
     },
     "execution_count": 27,
     "metadata": {},
     "output_type": "execute_result"
    }
   ],
   "source": [
    "date_time = datetime(year=year, month=month, day=day, \n",
    "                     hour=hour, minute=minute, second=second, \n",
    "                     microsecond=microsecond)\n",
    "date_time"
   ]
  },
  {
   "cell_type": "markdown",
   "metadata": {},
   "source": [
    "The `datetime()` class has many useful methods. Type `date_time.` and press tab."
   ]
  },
  {
   "cell_type": "code",
   "execution_count": 28,
   "metadata": {},
   "outputs": [
    {
     "data": {
      "text/plain": [
       "2020"
      ]
     },
     "execution_count": 28,
     "metadata": {},
     "output_type": "execute_result"
    }
   ],
   "source": [
    "date_time.year"
   ]
  },
  {
   "cell_type": "code",
   "execution_count": 29,
   "metadata": {},
   "outputs": [
    {
     "data": {
      "text/plain": [
       "15"
      ]
     },
     "execution_count": 29,
     "metadata": {},
     "output_type": "execute_result"
    }
   ],
   "source": [
    "date_time.hour"
   ]
  },
  {
   "cell_type": "code",
   "execution_count": 30,
   "metadata": {},
   "outputs": [
    {
     "data": {
      "text/plain": [
       "3"
      ]
     },
     "execution_count": 30,
     "metadata": {},
     "output_type": "execute_result"
    }
   ],
   "source": [
    "date_time.weekday()"
   ]
  },
  {
   "cell_type": "markdown",
   "metadata": {},
   "source": [
    "`.weekday()` returns the day of the week as an integer, where Monday is 0 and Sunday is 6. Weekday = 3 is Thursday!\n",
    "\n",
    "We can also format the datetime object as a string. Visit this [website](https://www.w3schools.com/python/python_datetime.asp) for a reference of all the legal format codes.\n",
    "\n",
    "**Weekday, short version**"
   ]
  },
  {
   "cell_type": "code",
   "execution_count": 31,
   "metadata": {},
   "outputs": [
    {
     "data": {
      "text/plain": [
       "'Thu'"
      ]
     },
     "execution_count": 31,
     "metadata": {},
     "output_type": "execute_result"
    }
   ],
   "source": [
    "date_time.strftime('%a')"
   ]
  },
  {
   "cell_type": "markdown",
   "metadata": {},
   "source": [
    "**Weekday, full version**"
   ]
  },
  {
   "cell_type": "code",
   "execution_count": 32,
   "metadata": {},
   "outputs": [
    {
     "data": {
      "text/plain": [
       "'Thursday'"
      ]
     },
     "execution_count": 32,
     "metadata": {},
     "output_type": "execute_result"
    }
   ],
   "source": [
    "date_time.strftime('%A')"
   ]
  },
  {
   "cell_type": "markdown",
   "metadata": {},
   "source": [
    "**Timezone**"
   ]
  },
  {
   "cell_type": "code",
   "execution_count": 33,
   "metadata": {},
   "outputs": [
    {
     "data": {
      "text/plain": [
       "''"
      ]
     },
     "execution_count": 33,
     "metadata": {},
     "output_type": "execute_result"
    }
   ],
   "source": [
    "date_time.strftime('%Z')"
   ]
  },
  {
   "cell_type": "markdown",
   "metadata": {},
   "source": [
    "Hmm, this is interesting. Why is there no time zone information?\n",
    "\n",
    "Remember the `datetime.datetime()` class has a time zone argument which is set to `tzinfo=None` by default.\n",
    "\n",
    "To make a datetime object have a time zone, you can use the pytz library."
   ]
  },
  {
   "cell_type": "code",
   "execution_count": 34,
   "metadata": {},
   "outputs": [],
   "source": [
    "import pytz"
   ]
  },
  {
   "cell_type": "markdown",
   "metadata": {},
   "source": [
    "First, lets use `pytz` to create a time zone object."
   ]
  },
  {
   "cell_type": "code",
   "execution_count": 35,
   "metadata": {},
   "outputs": [],
   "source": [
    "time_zone = pytz.timezone('Canada/Eastern')"
   ]
  },
  {
   "cell_type": "markdown",
   "metadata": {},
   "source": [
    "Next, we can apply the time zone to our naive datetime."
   ]
  },
  {
   "cell_type": "code",
   "execution_count": 36,
   "metadata": {},
   "outputs": [
    {
     "data": {
      "text/plain": [
       "datetime.datetime(2020, 11, 12, 15, 10, 32, 2304, tzinfo=<DstTzInfo 'Canada/Eastern' EST-1 day, 19:00:00 STD>)"
      ]
     },
     "execution_count": 36,
     "metadata": {},
     "output_type": "execute_result"
    }
   ],
   "source": [
    "date_time_aware = time_zone.localize(date_time)\n",
    "date_time_aware"
   ]
  },
  {
   "cell_type": "markdown",
   "metadata": {},
   "source": [
    "<a id='section4'></a>\n",
    "## 4. Demo 4 - Datetimes in Pandas\n",
    "\n",
    "Typically, we deal with time series as a datetime index when working with a Pandas DataFrame. Pandas has a lot of functions and methods to work with time series that you can check out [here](https://pandas.pydata.org/pandas-docs/stable/timeseries.html).\n",
    "\n",
    "### DatetimeIndex\n",
    "Let's start by creating a dummy DataFrame. We can use the `pd.date_range()` function to create a Pandas `DatetimeIndex`."
   ]
  },
  {
   "cell_type": "code",
   "execution_count": 37,
   "metadata": {},
   "outputs": [
    {
     "data": {
      "text/plain": [
       "DatetimeIndex(['2020-12-31', '2021-12-31', '2022-12-31', '2023-12-31',\n",
       "               '2024-12-31', '2025-12-31', '2026-12-31', '2027-12-31',\n",
       "               '2028-12-31', '2029-12-31'],\n",
       "              dtype='datetime64[ns]', freq='A-DEC')"
      ]
     },
     "execution_count": 37,
     "metadata": {},
     "output_type": "execute_result"
    }
   ],
   "source": [
    "idx = pd.date_range(start='12/11/2020', periods=10, freq='Y')\n",
    "idx"
   ]
  },
  {
   "cell_type": "markdown",
   "metadata": {},
   "source": [
    "In this case, we've created a DatetimeIndex starting at `12/11/2020`, lasting for 10 periods at a frequency of every year."
   ]
  },
  {
   "cell_type": "code",
   "execution_count": 38,
   "metadata": {},
   "outputs": [
    {
     "data": {
      "text/plain": [
       "DatetimeIndex(['2020-12-11', '2020-12-12', '2020-12-13', '2020-12-14',\n",
       "               '2020-12-15', '2020-12-16', '2020-12-17', '2020-12-18',\n",
       "               '2020-12-19', '2020-12-20'],\n",
       "              dtype='datetime64[ns]', freq='D')"
      ]
     },
     "execution_count": 38,
     "metadata": {},
     "output_type": "execute_result"
    }
   ],
   "source": [
    "idx = pd.date_range(start='12/11/2020', periods=10, freq='D')\n",
    "idx"
   ]
  },
  {
   "cell_type": "markdown",
   "metadata": {},
   "source": [
    "This time, we've selected a frequency of one day.\n",
    "\n",
    "Another option is to convert existing datetime information into a `DatetimeIndex`."
   ]
  },
  {
   "cell_type": "code",
   "execution_count": 39,
   "metadata": {},
   "outputs": [
    {
     "data": {
      "text/plain": [
       "DatetimeIndex([          '2020-11-21 00:00:00',\n",
       "                         '2019-04-03 00:00:00',\n",
       "                         '2012-02-10 00:00:00',\n",
       "                                         'NaT',\n",
       "               '1970-01-01 00:00:00.000000010'],\n",
       "              dtype='datetime64[ns]', freq=None)"
      ]
     },
     "execution_count": 39,
     "metadata": {},
     "output_type": "execute_result"
    }
   ],
   "source": [
    "import numpy as np\n",
    "idx = pd.to_datetime(['November 21, 2020','4/3/19',\n",
    "                      '10-Feb-2012', None, 10.34])\n",
    "idx"
   ]
  },
  {
   "cell_type": "markdown",
   "metadata": {},
   "source": [
    "Question: Why did `10.34` successfully convert to a datetime?\n",
    "\n",
    "Ok, let's create a DataFrame."
   ]
  },
  {
   "cell_type": "code",
   "execution_count": 41,
   "metadata": {},
   "outputs": [
    {
     "data": {
      "text/plain": [
       "DatetimeIndex(['2020-12-11', '2020-12-12', '2020-12-13', '2020-12-14',\n",
       "               '2020-12-15', '2020-12-16', '2020-12-17', '2020-12-18',\n",
       "               '2020-12-19', '2020-12-20',\n",
       "               ...\n",
       "               '2023-08-28', '2023-08-29', '2023-08-30', '2023-08-31',\n",
       "               '2023-09-01', '2023-09-02', '2023-09-03', '2023-09-04',\n",
       "               '2023-09-05', '2023-09-06'],\n",
       "              dtype='datetime64[ns]', length=1000, freq='D')"
      ]
     },
     "execution_count": 41,
     "metadata": {},
     "output_type": "execute_result"
    }
   ],
   "source": [
    "idx = pd.date_range(start='12/11/2020', periods=1000, freq='D')\n",
    "idx"
   ]
  },
  {
   "cell_type": "code",
   "execution_count": 42,
   "metadata": {},
   "outputs": [
    {
     "data": {
      "text/html": [
       "<div>\n",
       "<style scoped>\n",
       "    .dataframe tbody tr th:only-of-type {\n",
       "        vertical-align: middle;\n",
       "    }\n",
       "\n",
       "    .dataframe tbody tr th {\n",
       "        vertical-align: top;\n",
       "    }\n",
       "\n",
       "    .dataframe thead th {\n",
       "        text-align: right;\n",
       "    }\n",
       "</style>\n",
       "<table border=\"1\" class=\"dataframe\">\n",
       "  <thead>\n",
       "    <tr style=\"text-align: right;\">\n",
       "      <th></th>\n",
       "      <th>Var1</th>\n",
       "      <th>Var2</th>\n",
       "    </tr>\n",
       "  </thead>\n",
       "  <tbody>\n",
       "    <tr>\n",
       "      <th>2020-12-11</th>\n",
       "      <td>0.812813</td>\n",
       "      <td>0.376262</td>\n",
       "    </tr>\n",
       "    <tr>\n",
       "      <th>2020-12-12</th>\n",
       "      <td>0.433451</td>\n",
       "      <td>0.876810</td>\n",
       "    </tr>\n",
       "    <tr>\n",
       "      <th>2020-12-13</th>\n",
       "      <td>0.375331</td>\n",
       "      <td>0.103402</td>\n",
       "    </tr>\n",
       "    <tr>\n",
       "      <th>2020-12-14</th>\n",
       "      <td>0.246207</td>\n",
       "      <td>0.707736</td>\n",
       "    </tr>\n",
       "    <tr>\n",
       "      <th>2020-12-15</th>\n",
       "      <td>0.557993</td>\n",
       "      <td>0.952560</td>\n",
       "    </tr>\n",
       "  </tbody>\n",
       "</table>\n",
       "</div>"
      ],
      "text/plain": [
       "                Var1      Var2\n",
       "2020-12-11  0.812813  0.376262\n",
       "2020-12-12  0.433451  0.876810\n",
       "2020-12-13  0.375331  0.103402\n",
       "2020-12-14  0.246207  0.707736\n",
       "2020-12-15  0.557993  0.952560"
      ]
     },
     "execution_count": 42,
     "metadata": {},
     "output_type": "execute_result"
    }
   ],
   "source": [
    "data = pd.DataFrame(index=idx, \n",
    "                    data=np.random.rand(1000, 2), \n",
    "                    columns=['Var1', 'Var2'])\n",
    "data.head()"
   ]
  },
  {
   "cell_type": "markdown",
   "metadata": {},
   "source": [
    "Now we can use Pandas index operations."
   ]
  },
  {
   "cell_type": "code",
   "execution_count": 43,
   "metadata": {},
   "outputs": [
    {
     "data": {
      "text/plain": [
       "Timestamp('2020-12-11 00:00:00', freq='D')"
      ]
     },
     "execution_count": 43,
     "metadata": {},
     "output_type": "execute_result"
    }
   ],
   "source": [
    "data.index.min()"
   ]
  },
  {
   "cell_type": "code",
   "execution_count": 44,
   "metadata": {},
   "outputs": [
    {
     "data": {
      "text/plain": [
       "Timestamp('2023-09-06 00:00:00', freq='D')"
      ]
     },
     "execution_count": 44,
     "metadata": {},
     "output_type": "execute_result"
    }
   ],
   "source": [
    "data.index.max()"
   ]
  },
  {
   "cell_type": "markdown",
   "metadata": {},
   "source": [
    "### Time Resampling\n",
    "\n",
    "Next, we'll explore Pandas `.resample()` method.\n",
    "\n",
    "Let's import the Uber ride data from Lecture 7."
   ]
  },
  {
   "cell_type": "code",
   "execution_count": 45,
   "metadata": {},
   "outputs": [
    {
     "data": {
      "text/html": [
       "<div>\n",
       "<style scoped>\n",
       "    .dataframe tbody tr th:only-of-type {\n",
       "        vertical-align: middle;\n",
       "    }\n",
       "\n",
       "    .dataframe tbody tr th {\n",
       "        vertical-align: top;\n",
       "    }\n",
       "\n",
       "    .dataframe thead th {\n",
       "        text-align: right;\n",
       "    }\n",
       "</style>\n",
       "<table border=\"1\" class=\"dataframe\">\n",
       "  <thead>\n",
       "    <tr style=\"text-align: right;\">\n",
       "      <th></th>\n",
       "      <th>Date/Time</th>\n",
       "      <th>Lat</th>\n",
       "      <th>Lon</th>\n",
       "      <th>Base</th>\n",
       "    </tr>\n",
       "  </thead>\n",
       "  <tbody>\n",
       "    <tr>\n",
       "      <th>0</th>\n",
       "      <td>6/1/2014 0:00:00</td>\n",
       "      <td>40.7293</td>\n",
       "      <td>-73.9920</td>\n",
       "      <td>B02512</td>\n",
       "    </tr>\n",
       "    <tr>\n",
       "      <th>1</th>\n",
       "      <td>6/1/2014 0:01:00</td>\n",
       "      <td>40.7131</td>\n",
       "      <td>-74.0097</td>\n",
       "      <td>B02512</td>\n",
       "    </tr>\n",
       "    <tr>\n",
       "      <th>2</th>\n",
       "      <td>6/1/2014 0:04:00</td>\n",
       "      <td>40.3461</td>\n",
       "      <td>-74.6610</td>\n",
       "      <td>B02512</td>\n",
       "    </tr>\n",
       "    <tr>\n",
       "      <th>3</th>\n",
       "      <td>6/1/2014 0:04:00</td>\n",
       "      <td>40.7555</td>\n",
       "      <td>-73.9833</td>\n",
       "      <td>B02512</td>\n",
       "    </tr>\n",
       "    <tr>\n",
       "      <th>4</th>\n",
       "      <td>6/1/2014 0:07:00</td>\n",
       "      <td>40.6880</td>\n",
       "      <td>-74.1831</td>\n",
       "      <td>B02512</td>\n",
       "    </tr>\n",
       "  </tbody>\n",
       "</table>\n",
       "</div>"
      ],
      "text/plain": [
       "          Date/Time      Lat      Lon    Base\n",
       "0  6/1/2014 0:00:00  40.7293 -73.9920  B02512\n",
       "1  6/1/2014 0:01:00  40.7131 -74.0097  B02512\n",
       "2  6/1/2014 0:04:00  40.3461 -74.6610  B02512\n",
       "3  6/1/2014 0:04:00  40.7555 -73.9833  B02512\n",
       "4  6/1/2014 0:07:00  40.6880 -74.1831  B02512"
      ]
     },
     "execution_count": 45,
     "metadata": {},
     "output_type": "execute_result"
    }
   ],
   "source": [
    "# Import data\n",
    "uber_data = pd.read_csv('uber-raw-data-jun14.csv')\n",
    "uber_data.head()"
   ]
  },
  {
   "cell_type": "code",
   "execution_count": 39,
   "metadata": {},
   "outputs": [
    {
     "data": {
      "text/html": [
       "<div>\n",
       "<style scoped>\n",
       "    .dataframe tbody tr th:only-of-type {\n",
       "        vertical-align: middle;\n",
       "    }\n",
       "\n",
       "    .dataframe tbody tr th {\n",
       "        vertical-align: top;\n",
       "    }\n",
       "\n",
       "    .dataframe thead th {\n",
       "        text-align: right;\n",
       "    }\n",
       "</style>\n",
       "<table border=\"1\" class=\"dataframe\">\n",
       "  <thead>\n",
       "    <tr style=\"text-align: right;\">\n",
       "      <th></th>\n",
       "      <th>Lat</th>\n",
       "      <th>Lon</th>\n",
       "      <th>Base</th>\n",
       "    </tr>\n",
       "    <tr>\n",
       "      <th>Date/Time</th>\n",
       "      <th></th>\n",
       "      <th></th>\n",
       "      <th></th>\n",
       "    </tr>\n",
       "  </thead>\n",
       "  <tbody>\n",
       "    <tr>\n",
       "      <th>6/1/2014 0:00:00</th>\n",
       "      <td>40.7293</td>\n",
       "      <td>-73.9920</td>\n",
       "      <td>B02512</td>\n",
       "    </tr>\n",
       "    <tr>\n",
       "      <th>6/1/2014 0:01:00</th>\n",
       "      <td>40.7131</td>\n",
       "      <td>-74.0097</td>\n",
       "      <td>B02512</td>\n",
       "    </tr>\n",
       "    <tr>\n",
       "      <th>6/1/2014 0:04:00</th>\n",
       "      <td>40.3461</td>\n",
       "      <td>-74.6610</td>\n",
       "      <td>B02512</td>\n",
       "    </tr>\n",
       "    <tr>\n",
       "      <th>6/1/2014 0:04:00</th>\n",
       "      <td>40.7555</td>\n",
       "      <td>-73.9833</td>\n",
       "      <td>B02512</td>\n",
       "    </tr>\n",
       "    <tr>\n",
       "      <th>6/1/2014 0:07:00</th>\n",
       "      <td>40.6880</td>\n",
       "      <td>-74.1831</td>\n",
       "      <td>B02512</td>\n",
       "    </tr>\n",
       "  </tbody>\n",
       "</table>\n",
       "</div>"
      ],
      "text/plain": [
       "                      Lat      Lon    Base\n",
       "Date/Time                                 \n",
       "6/1/2014 0:00:00  40.7293 -73.9920  B02512\n",
       "6/1/2014 0:01:00  40.7131 -74.0097  B02512\n",
       "6/1/2014 0:04:00  40.3461 -74.6610  B02512\n",
       "6/1/2014 0:04:00  40.7555 -73.9833  B02512\n",
       "6/1/2014 0:07:00  40.6880 -74.1831  B02512"
      ]
     },
     "execution_count": 39,
     "metadata": {},
     "output_type": "execute_result"
    }
   ],
   "source": [
    "# Set 'Date/Time' column as index\n",
    "uber_data = uber_data.set_index('Date/Time')\n",
    "uber_data.head()"
   ]
  },
  {
   "cell_type": "code",
   "execution_count": 40,
   "metadata": {},
   "outputs": [
    {
     "data": {
      "text/html": [
       "<div>\n",
       "<style scoped>\n",
       "    .dataframe tbody tr th:only-of-type {\n",
       "        vertical-align: middle;\n",
       "    }\n",
       "\n",
       "    .dataframe tbody tr th {\n",
       "        vertical-align: top;\n",
       "    }\n",
       "\n",
       "    .dataframe thead th {\n",
       "        text-align: right;\n",
       "    }\n",
       "</style>\n",
       "<table border=\"1\" class=\"dataframe\">\n",
       "  <thead>\n",
       "    <tr style=\"text-align: right;\">\n",
       "      <th></th>\n",
       "      <th>Lat</th>\n",
       "      <th>Lon</th>\n",
       "      <th>Base</th>\n",
       "    </tr>\n",
       "    <tr>\n",
       "      <th>Date/Time</th>\n",
       "      <th></th>\n",
       "      <th></th>\n",
       "      <th></th>\n",
       "    </tr>\n",
       "  </thead>\n",
       "  <tbody>\n",
       "    <tr>\n",
       "      <th>2014-06-01 00:00:00</th>\n",
       "      <td>40.7293</td>\n",
       "      <td>-73.9920</td>\n",
       "      <td>B02512</td>\n",
       "    </tr>\n",
       "    <tr>\n",
       "      <th>2014-06-01 00:01:00</th>\n",
       "      <td>40.7131</td>\n",
       "      <td>-74.0097</td>\n",
       "      <td>B02512</td>\n",
       "    </tr>\n",
       "    <tr>\n",
       "      <th>2014-06-01 00:04:00</th>\n",
       "      <td>40.3461</td>\n",
       "      <td>-74.6610</td>\n",
       "      <td>B02512</td>\n",
       "    </tr>\n",
       "    <tr>\n",
       "      <th>2014-06-01 00:04:00</th>\n",
       "      <td>40.7555</td>\n",
       "      <td>-73.9833</td>\n",
       "      <td>B02512</td>\n",
       "    </tr>\n",
       "    <tr>\n",
       "      <th>2014-06-01 00:07:00</th>\n",
       "      <td>40.6880</td>\n",
       "      <td>-74.1831</td>\n",
       "      <td>B02512</td>\n",
       "    </tr>\n",
       "  </tbody>\n",
       "</table>\n",
       "</div>"
      ],
      "text/plain": [
       "                         Lat      Lon    Base\n",
       "Date/Time                                    \n",
       "2014-06-01 00:00:00  40.7293 -73.9920  B02512\n",
       "2014-06-01 00:01:00  40.7131 -74.0097  B02512\n",
       "2014-06-01 00:04:00  40.3461 -74.6610  B02512\n",
       "2014-06-01 00:04:00  40.7555 -73.9833  B02512\n",
       "2014-06-01 00:07:00  40.6880 -74.1831  B02512"
      ]
     },
     "execution_count": 40,
     "metadata": {},
     "output_type": "execute_result"
    }
   ],
   "source": [
    "# Convert index to DatetimeIndex\n",
    "uber_data.index = pd.DatetimeIndex(uber_data.index)\n",
    "uber_data.head()"
   ]
  },
  {
   "cell_type": "markdown",
   "metadata": {},
   "source": [
    "We know that this DataFrame contains ride data from June 2014.\n",
    "\n",
    "Let's say we want to generate a plot showing the number of ride's per day in June. We can do this using `.resample()`.\n",
    "\n",
    "When calling .resample() you need to specify a rule parameter and then you need to call an aggregation function such as count, sum, mean, etc.\n",
    "\n",
    "The rule parameter describes the frequency to apply the aggregation function (daily, monthly, etc.).\n",
    "\n",
    "There are many rules as seen [here](https://pandas.pydata.org/pandas-docs/stable/user_guide/timeseries.html#offset-aliases) under `Offset aliases`.\n",
    "\n"
   ]
  },
  {
   "cell_type": "code",
   "execution_count": 41,
   "metadata": {},
   "outputs": [
    {
     "data": {
      "text/plain": [
       "2014-06-01    15967\n",
       "2014-06-02    17503\n",
       "2014-06-03    22674\n",
       "2014-06-04    22831\n",
       "2014-06-05    28371\n",
       "2014-06-06    24683\n",
       "2014-06-07    20889\n",
       "2014-06-08    15749\n",
       "2014-06-09    23244\n",
       "2014-06-10    22874\n",
       "2014-06-11    25716\n",
       "2014-06-12    29844\n",
       "2014-06-13    31207\n",
       "2014-06-14    19327\n",
       "2014-06-15    14511\n",
       "2014-06-16    17778\n",
       "2014-06-17    21807\n",
       "2014-06-18    24647\n",
       "2014-06-19    28594\n",
       "2014-06-20    24271\n",
       "2014-06-21    19940\n",
       "2014-06-22    16322\n",
       "2014-06-23    17735\n",
       "2014-06-24    20779\n",
       "2014-06-25    26460\n",
       "2014-06-26    28516\n",
       "2014-06-27    24895\n",
       "2014-06-28    21208\n",
       "2014-06-29    17107\n",
       "2014-06-30    18395\n",
       "Freq: D, Name: Date/Time, dtype: int64"
      ]
     },
     "execution_count": 41,
     "metadata": {},
     "output_type": "execute_result"
    }
   ],
   "source": [
    "# Daily count\n",
    "counts = uber_data.index.value_counts().resample('D').sum()\n",
    "counts"
   ]
  },
  {
   "cell_type": "markdown",
   "metadata": {},
   "source": [
    "Now, let's try plotting it."
   ]
  },
  {
   "cell_type": "code",
   "execution_count": 42,
   "metadata": {},
   "outputs": [
    {
     "data": {
      "image/png": "[encoded data removed]",
      "text/plain": [
       "<Figure size 1080x360 with 1 Axes>"
      ]
     },
     "metadata": {},
     "output_type": "display_data"
    }
   ],
   "source": [
    "title = 'Uber Rides Per Day, June 2014'\n",
    "counts.plot.bar(figsize=(15, 5), title=title)\n",
    "plt.show()"
   ]
  },
  {
   "cell_type": "markdown",
   "metadata": {},
   "source": [
    "Question: What could be causing the cyclical pattern?"
   ]
  }
 ],
 "metadata": {
  "kernelspec": {
   "display_name": "Python 3 (ipykernel)",
   "language": "python",
   "name": "python3"
  },
  "language_info": {
   "codemirror_mode": {
    "name": "ipython",
    "version": 3
   },
   "file_extension": ".py",
   "mimetype": "text/x-python",
   "name": "python",
   "nbconvert_exporter": "python",
   "pygments_lexer": "ipython3",
   "version": "3.7.11"
  }
 },
 "nbformat": 4,
 "nbformat_minor": 4
}
